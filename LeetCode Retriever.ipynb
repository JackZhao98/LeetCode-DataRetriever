{
 "cells": [
  {
   "cell_type": "markdown",
   "metadata": {},
   "source": [
    "# LeetCode Data Retriever\n",
    "## Introduction\n",
    "This script can utilize the `LCDataRetriever` module to help you collect all the information you need from LeetCode.\n",
    "\n",
    "*Note: Please get your LeetCode Auth **Cookie**🍪 ready. Your information will **NOT** be collected.*"
   ]
  },
  {
   "cell_type": "code",
   "execution_count": 1,
   "metadata": {},
   "outputs": [],
   "source": [
    "from lc_retriever import LCDataRetriever\n",
    "from lc_retriever import LCDownloader"
   ]
  },
  {
   "cell_type": "markdown",
   "metadata": {},
   "source": [
    "### 🍪 Enter your cookie here! (Required)"
   ]
  },
  {
   "cell_type": "code",
   "execution_count": 2,
   "metadata": {},
   "outputs": [],
   "source": [
    "COOKIE = \"YOUR LEETCODE COOKIE\""
   ]
  },
  {
   "cell_type": "markdown",
   "metadata": {},
   "source": [
    "# Here we go!\n",
    "## LCDataRetriever\n",
    "\n",
    "First, **initialize** the `LCDataRetriever(cookie = COOKIE)` object with your cookie. (This is a **required** parameter)"
   ]
  },
  {
   "cell_type": "code",
   "execution_count": 3,
   "metadata": {},
   "outputs": [],
   "source": [
    "ld = LCDataRetriever(cookie = COOKIE)"
   ]
  },
  {
   "cell_type": "markdown",
   "metadata": {},
   "source": [
    "### Submission Retriever\n",
    "`retrieve_submissions(self, pages=-1, verbose=False, delay=2)` can be used as a submission info retreival tool.\n",
    "\n",
    "- pages: number of pages you want to retrieve, -1 for all pages.\n",
    "- verbose: print some bullshit to watch while waiting\n",
    "- delay: time delay between two requests to avoid access denial.\n",
    "\n",
    "Values are returned as a list of dict. "
   ]
  },
  {
   "cell_type": "code",
   "execution_count": 4,
   "metadata": {},
   "outputs": [
    {
     "data": {
      "text/plain": [
       "{'id': 384315383,\n",
       " 'lang': 'python3',\n",
       " 'time': '1\\xa0day, 8\\xa0hours',\n",
       " 'timestamp': 1598036404,\n",
       " 'status_display': 'Accepted',\n",
       " 'runtime': '144 ms',\n",
       " 'url': '/submissions/detail/384315383/',\n",
       " 'is_pending': 'Not Pending',\n",
       " 'title': 'Sort Array By Parity',\n",
       " 'memory': '14.2 MB',\n",
       " 'code': 'class Solution:\\n    def sortArrayByParity(self, A: List[int]) -> List[int]:\\n        i = 0\\n        j = len(A) - 1\\n        while i < j:\\n            if A[i] & 1 == 0:\\n                i += 1\\n            else:\\n                A[i], A[j] = A[j], A[i]\\n                j -= 1\\n        return A',\n",
       " 'compare_result': '111111111111111111111111111111111111111111111111111111111111111111111111111111111111111111111111111111111111111111111111111111111111111111111111111111111111111111111111111111111111111111111111111111111111111111111111111111111111111111111111111111111111111111111111111111111111111111111'}"
      ]
     },
     "execution_count": 4,
     "metadata": {},
     "output_type": "execute_result"
    }
   ],
   "source": [
    "ld.retrieve_submissions(pages=1)[0]"
   ]
  },
  {
   "cell_type": "markdown",
   "metadata": {},
   "source": [
    "### Question detail Retriever\n",
    "\n",
    "`retrieve_question(self, title_slug)` can be used for querying a single question details.\n",
    "\n",
    "- title_slug (**required**) a title format that you can found at the end of a question url. It looks like this:\n",
    "\n",
    "    - \"two-sum\"\n",
    "    - \"n-queens-ii\"\n",
    " \n",
    "Values are returned as a dict"
   ]
  },
  {
   "cell_type": "code",
   "execution_count": null,
   "metadata": {},
   "outputs": [],
   "source": [
    "question_detail = ld.retrieve_question(\"3sum\")\n",
    "question_detail"
   ]
  },
  {
   "cell_type": "markdown",
   "metadata": {},
   "source": [
    "### \"Everything\" Retriever\n",
    "\n",
    "`retrieve_all(self)`. As titled, this method gives you everything about your usage data, plus all 1500+ problem infomation, in a dict."
   ]
  },
  {
   "cell_type": "code",
   "execution_count": null,
   "metadata": {},
   "outputs": [],
   "source": [
    "ld.retrieve_all()"
   ]
  },
  {
   "cell_type": "markdown",
   "metadata": {},
   "source": [
    "## LCDownloader\n",
    "**_A native built LeetCode data downloader_**\n",
    "\n",
    "### __init__\n",
    "Still, initialize with you LeetCode auth cookie.\n",
    "`__init__(self, cookie, path = \"./\", target_folder = \"LeetCode Data\")`\n",
    "\n",
    "- cookie (**required**)\n",
    "- path: download directory\n",
    "- target_folder: download folder name"
   ]
  },
  {
   "cell_type": "code",
   "execution_count": 7,
   "metadata": {},
   "outputs": [
    {
     "name": "stdout",
     "output_type": "stream",
     "text": [
      "Folder exists: ./LeetCode Data\n"
     ]
    }
   ],
   "source": [
    "d = LCDownloader(COOKIE)"
   ]
  },
  {
   "cell_type": "markdown",
   "metadata": {},
   "source": [
    "### Download Submissions!\n",
    "Call `download_submissions(self, pages = -1, submissions = [], mode = \"md\")` to download your submissions to the designated folder.\n",
    "\n",
    "- pages: how many pages of submissions will be downloaded (-1 for all)\n",
    "- submissions: fill in submissions if you have already retrieved submissions information\n",
    "- mode: \"md\" or \"raw\"\n",
    "    - md: a well-formatted Markdown file with rich information\n",
    "    - raw: source code"
   ]
  },
  {
   "cell_type": "code",
   "execution_count": null,
   "metadata": {},
   "outputs": [],
   "source": [
    "d.download_submissions()"
   ]
  },
  {
   "cell_type": "code",
   "execution_count": null,
   "metadata": {},
   "outputs": [],
   "source": []
  }
 ],
 "metadata": {
  "kernelspec": {
   "display_name": "Python 3",
   "language": "python",
   "name": "python3"
  },
  "language_info": {
   "codemirror_mode": {
    "name": "ipython",
    "version": 3
   },
   "file_extension": ".py",
   "mimetype": "text/x-python",
   "name": "python",
   "nbconvert_exporter": "python",
   "pygments_lexer": "ipython3",
   "version": "3.7.7"
  }
 },
 "nbformat": 4,
 "nbformat_minor": 4
}
